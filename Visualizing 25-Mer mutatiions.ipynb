{
 "cells": [
  {
   "cell_type": "code",
   "execution_count": 161,
   "metadata": {},
   "outputs": [],
   "source": [
    "# To display graphs in this notebook, run this:\n",
    "%matplotlib inline\n",
    "\n",
    "# We're now going to import some important libraries\n",
    "\n",
    "import numpy.random # for generating a noisy data set\n",
    "from sklearn import linear_model # for training a linear model\n",
    "import matplotlib\n",
    "\n",
    "import matplotlib.pyplot as plt # for plotting in general\n",
    "from math import log\n",
    "import math\n",
    "\n",
    "import pandas as pd\n",
    "\n",
    "import statistics"
   ]
  },
  {
   "cell_type": "code",
   "execution_count": 162,
   "metadata": {},
   "outputs": [
    {
     "name": "stdout",
     "output_type": "stream",
     "text": [
      "3970\n"
     ]
    }
   ],
   "source": [
    "#Load Data\n",
    "pata = pd.read_csv(\"mutations_k25 - mutations_k25.csv\")\n",
    "pata.head()\n",
    "print((len(pata['Max Mutations'])))"
   ]
  },
  {
   "cell_type": "code",
   "execution_count": 165,
   "metadata": {},
   "outputs": [
    {
     "name": "stdout",
     "output_type": "stream",
     "text": [
      "100\n",
      "100\n"
     ]
    }
   ],
   "source": [
    "finalbardata = {}\n",
    "base = 5\n",
    "for e in range(0, 100):\n",
    "    #print(e)\n",
    "    #print(base)\n",
    "    box = 0\n",
    "    for i in list(pata['Max Mutations']):\n",
    "        #print(i)\n",
    "        if i < base and i > base-5:\n",
    "            box +=1\n",
    "    finalbardata.update({base:box})\n",
    "    base += 5\n",
    "print(len(list(finalbardata.keys())))\n",
    "print(len(list(finalbardata.values())))"
   ]
  },
  {
   "cell_type": "code",
   "execution_count": 182,
   "metadata": {},
   "outputs": [
    {
     "name": "stdout",
     "output_type": "stream",
     "text": [
      "dict_values([160, 269, 1182, 1357, 591, 242, 99, 30, 4, 3, 1])\n",
      "dict_keys([5, 10, 15, 20, 25, 30, 35, 40, 45, 50, 60])\n"
     ]
    }
   ],
   "source": [
    "def get_key(val, my_dict): \n",
    "    for key, value in my_dict.items(): \n",
    "         if val == value: \n",
    "            return key \n",
    "  \n",
    "    return \"key doesn't exist\"\n",
    "  \n",
    "for value in list(finalbardata.values()):\n",
    "    if value ==0:\n",
    "        ke = get_key(value,finalbardata)\n",
    "        finalbardata.pop(ke)\n",
    "\n",
    "finalbardata.pop(445)\n",
    "finalbardata.pop(450)\n",
    "newdict = finalbardata\n",
    "print((finalbardata.values()))\n",
    "print((finalbardata.keys()))"
   ]
  },
  {
   "cell_type": "code",
   "execution_count": 187,
   "metadata": {},
   "outputs": [
    {
     "data": {
      "image/png": "[encoded data removed]",
      "text/plain": [
       "<Figure size 432x288 with 1 Axes>"
      ]
     },
     "metadata": {},
     "output_type": "display_data"
    }
   ],
   "source": [
    "#Code from https://benalexkeen.com/bar-charts-in-matplotlib/\n",
    "plt.style.use('ggplot')\n",
    "mutations = list(newdict.keys())\n",
    "numberofgenomes = list(newdict.values())\n",
    "\n",
    "mutations_pos = [i for i, _ in enumerate(mutations)]\n",
    "\n",
    "plt.bar(mutations, numberofgenomes, color='green',width=10)\n",
    "plt.xlabel(\"Number of Mutations\")\n",
    "plt.ylabel(\"Number of Genomes\")\n",
    "plt.title(\"Number of Genomes with X Mutations\")\n",
    "\n",
    "plt.xticks(mutations_pos, mutations)\n",
    "\n",
    "plt.show()"
   ]
  },
  {
   "cell_type": "code",
   "execution_count": 188,
   "metadata": {},
   "outputs": [
    {
     "name": "stdout",
     "output_type": "stream",
     "text": [
      "The median number of mutations is 16.360000.\n",
      "The mean number of mutations is 17.893189.\n"
     ]
    }
   ],
   "source": [
    "print(\"The median number of mutations is %f.\" %statistics.median(list(pata['Max Mutations'])))\n",
    "print(\"The mean number of mutations is %f.\" %statistics.mean(list(pata['Max Mutations'])))"
   ]
  },
  {
   "cell_type": "code",
   "execution_count": null,
   "metadata": {},
   "outputs": [],
   "source": []
  }
 ],
 "metadata": {
  "kernelspec": {
   "display_name": "Python 3",
   "language": "python",
   "name": "python3"
  },
  "language_info": {
   "codemirror_mode": {
    "name": "ipython",
    "version": 3
   },
   "file_extension": ".py",
   "mimetype": "text/x-python",
   "name": "python",
   "nbconvert_exporter": "python",
   "pygments_lexer": "ipython3",
   "version": "3.7.6"
  }
 },
 "nbformat": 4,
 "nbformat_minor": 4
}
